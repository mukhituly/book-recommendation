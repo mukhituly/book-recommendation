{
 "cells": [
  {
   "cell_type": "code",
   "execution_count": 94,
   "metadata": {},
   "outputs": [],
   "source": [
    "import pandas as pd\n",
    "import numpy as np\n",
    "import matplotlib.pyplot as plt\n",
    "import seaborn as sns"
   ]
  },
  {
   "cell_type": "code",
   "execution_count": 95,
   "metadata": {},
   "outputs": [
    {
     "name": "stderr",
     "output_type": "stream",
     "text": [
      "b'Skipping line 4012: expected 10 fields, saw 11\\nSkipping line 5688: expected 10 fields, saw 11\\nSkipping line 7056: expected 10 fields, saw 11\\nSkipping line 10601: expected 10 fields, saw 11\\nSkipping line 10668: expected 10 fields, saw 11\\n'\n"
     ]
    }
   ],
   "source": [
    "data_df = pd.read_csv('Downloads/books.csv', error_bad_lines = False)"
   ]
  },
  {
   "cell_type": "markdown",
   "metadata": {},
   "source": [
    "# Intro to DataSet"
   ]
  },
  {
   "cell_type": "code",
   "execution_count": 96,
   "metadata": {},
   "outputs": [
    {
     "data": {
      "text/html": [
       "<div>\n",
       "<style scoped>\n",
       "    .dataframe tbody tr th:only-of-type {\n",
       "        vertical-align: middle;\n",
       "    }\n",
       "\n",
       "    .dataframe tbody tr th {\n",
       "        vertical-align: top;\n",
       "    }\n",
       "\n",
       "    .dataframe thead th {\n",
       "        text-align: right;\n",
       "    }\n",
       "</style>\n",
       "<table border=\"1\" class=\"dataframe\">\n",
       "  <thead>\n",
       "    <tr style=\"text-align: right;\">\n",
       "      <th></th>\n",
       "      <th>bookID</th>\n",
       "      <th>title</th>\n",
       "      <th>authors</th>\n",
       "      <th>average_rating</th>\n",
       "      <th>isbn</th>\n",
       "      <th>isbn13</th>\n",
       "      <th>language_code</th>\n",
       "      <th># num_pages</th>\n",
       "      <th>ratings_count</th>\n",
       "      <th>text_reviews_count</th>\n",
       "    </tr>\n",
       "  </thead>\n",
       "  <tbody>\n",
       "    <tr>\n",
       "      <td>0</td>\n",
       "      <td>1</td>\n",
       "      <td>Harry Potter and the Half-Blood Prince (Harry ...</td>\n",
       "      <td>J.K. Rowling-Mary GrandPré</td>\n",
       "      <td>4.56</td>\n",
       "      <td>0439785960</td>\n",
       "      <td>9780439785969</td>\n",
       "      <td>eng</td>\n",
       "      <td>652</td>\n",
       "      <td>1944099</td>\n",
       "      <td>26249</td>\n",
       "    </tr>\n",
       "    <tr>\n",
       "      <td>1</td>\n",
       "      <td>2</td>\n",
       "      <td>Harry Potter and the Order of the Phoenix (Har...</td>\n",
       "      <td>J.K. Rowling-Mary GrandPré</td>\n",
       "      <td>4.49</td>\n",
       "      <td>0439358078</td>\n",
       "      <td>9780439358071</td>\n",
       "      <td>eng</td>\n",
       "      <td>870</td>\n",
       "      <td>1996446</td>\n",
       "      <td>27613</td>\n",
       "    </tr>\n",
       "    <tr>\n",
       "      <td>2</td>\n",
       "      <td>3</td>\n",
       "      <td>Harry Potter and the Sorcerer's Stone (Harry P...</td>\n",
       "      <td>J.K. Rowling-Mary GrandPré</td>\n",
       "      <td>4.47</td>\n",
       "      <td>0439554934</td>\n",
       "      <td>9780439554930</td>\n",
       "      <td>eng</td>\n",
       "      <td>320</td>\n",
       "      <td>5629932</td>\n",
       "      <td>70390</td>\n",
       "    </tr>\n",
       "    <tr>\n",
       "      <td>3</td>\n",
       "      <td>4</td>\n",
       "      <td>Harry Potter and the Chamber of Secrets (Harry...</td>\n",
       "      <td>J.K. Rowling</td>\n",
       "      <td>4.41</td>\n",
       "      <td>0439554896</td>\n",
       "      <td>9780439554893</td>\n",
       "      <td>eng</td>\n",
       "      <td>352</td>\n",
       "      <td>6267</td>\n",
       "      <td>272</td>\n",
       "    </tr>\n",
       "    <tr>\n",
       "      <td>4</td>\n",
       "      <td>5</td>\n",
       "      <td>Harry Potter and the Prisoner of Azkaban (Harr...</td>\n",
       "      <td>J.K. Rowling-Mary GrandPré</td>\n",
       "      <td>4.55</td>\n",
       "      <td>043965548X</td>\n",
       "      <td>9780439655484</td>\n",
       "      <td>eng</td>\n",
       "      <td>435</td>\n",
       "      <td>2149872</td>\n",
       "      <td>33964</td>\n",
       "    </tr>\n",
       "    <tr>\n",
       "      <td>...</td>\n",
       "      <td>...</td>\n",
       "      <td>...</td>\n",
       "      <td>...</td>\n",
       "      <td>...</td>\n",
       "      <td>...</td>\n",
       "      <td>...</td>\n",
       "      <td>...</td>\n",
       "      <td>...</td>\n",
       "      <td>...</td>\n",
       "      <td>...</td>\n",
       "    </tr>\n",
       "    <tr>\n",
       "      <td>13709</td>\n",
       "      <td>47699</td>\n",
       "      <td>M Is for Magic</td>\n",
       "      <td>Neil Gaiman-Teddy Kristiansen</td>\n",
       "      <td>3.82</td>\n",
       "      <td>0061186422</td>\n",
       "      <td>9780061186424</td>\n",
       "      <td>eng</td>\n",
       "      <td>260</td>\n",
       "      <td>11317</td>\n",
       "      <td>1060</td>\n",
       "    </tr>\n",
       "    <tr>\n",
       "      <td>13710</td>\n",
       "      <td>47700</td>\n",
       "      <td>Black Orchid</td>\n",
       "      <td>Neil Gaiman-Dave McKean</td>\n",
       "      <td>3.72</td>\n",
       "      <td>0930289552</td>\n",
       "      <td>9780930289553</td>\n",
       "      <td>eng</td>\n",
       "      <td>160</td>\n",
       "      <td>8710</td>\n",
       "      <td>361</td>\n",
       "    </tr>\n",
       "    <tr>\n",
       "      <td>13711</td>\n",
       "      <td>47701</td>\n",
       "      <td>InterWorld (InterWorld  #1)</td>\n",
       "      <td>Neil Gaiman-Michael Reaves</td>\n",
       "      <td>3.53</td>\n",
       "      <td>0061238961</td>\n",
       "      <td>9780061238963</td>\n",
       "      <td>en-US</td>\n",
       "      <td>239</td>\n",
       "      <td>14334</td>\n",
       "      <td>1485</td>\n",
       "    </tr>\n",
       "    <tr>\n",
       "      <td>13712</td>\n",
       "      <td>47708</td>\n",
       "      <td>The Faeries' Oracle</td>\n",
       "      <td>Brian Froud-Jessica Macbeth</td>\n",
       "      <td>4.43</td>\n",
       "      <td>0743201116</td>\n",
       "      <td>9780743201117</td>\n",
       "      <td>eng</td>\n",
       "      <td>224</td>\n",
       "      <td>1550</td>\n",
       "      <td>38</td>\n",
       "    </tr>\n",
       "    <tr>\n",
       "      <td>13713</td>\n",
       "      <td>47709</td>\n",
       "      <td>The World of The Dark Crystal</td>\n",
       "      <td>Brian Froud</td>\n",
       "      <td>4.29</td>\n",
       "      <td>1862056242</td>\n",
       "      <td>9781862056244</td>\n",
       "      <td>eng</td>\n",
       "      <td>132</td>\n",
       "      <td>3572</td>\n",
       "      <td>33</td>\n",
       "    </tr>\n",
       "  </tbody>\n",
       "</table>\n",
       "<p>13714 rows × 10 columns</p>\n",
       "</div>"
      ],
      "text/plain": [
       "       bookID                                              title  \\\n",
       "0           1  Harry Potter and the Half-Blood Prince (Harry ...   \n",
       "1           2  Harry Potter and the Order of the Phoenix (Har...   \n",
       "2           3  Harry Potter and the Sorcerer's Stone (Harry P...   \n",
       "3           4  Harry Potter and the Chamber of Secrets (Harry...   \n",
       "4           5  Harry Potter and the Prisoner of Azkaban (Harr...   \n",
       "...       ...                                                ...   \n",
       "13709   47699                                     M Is for Magic   \n",
       "13710   47700                                       Black Orchid   \n",
       "13711   47701                        InterWorld (InterWorld  #1)   \n",
       "13712   47708                                The Faeries' Oracle   \n",
       "13713   47709                      The World of The Dark Crystal   \n",
       "\n",
       "                             authors  average_rating        isbn  \\\n",
       "0         J.K. Rowling-Mary GrandPré            4.56  0439785960   \n",
       "1         J.K. Rowling-Mary GrandPré            4.49  0439358078   \n",
       "2         J.K. Rowling-Mary GrandPré            4.47  0439554934   \n",
       "3                       J.K. Rowling            4.41  0439554896   \n",
       "4         J.K. Rowling-Mary GrandPré            4.55  043965548X   \n",
       "...                              ...             ...         ...   \n",
       "13709  Neil Gaiman-Teddy Kristiansen            3.82  0061186422   \n",
       "13710        Neil Gaiman-Dave McKean            3.72  0930289552   \n",
       "13711     Neil Gaiman-Michael Reaves            3.53  0061238961   \n",
       "13712    Brian Froud-Jessica Macbeth            4.43  0743201116   \n",
       "13713                    Brian Froud            4.29  1862056242   \n",
       "\n",
       "              isbn13 language_code  # num_pages  ratings_count  \\\n",
       "0      9780439785969           eng          652        1944099   \n",
       "1      9780439358071           eng          870        1996446   \n",
       "2      9780439554930           eng          320        5629932   \n",
       "3      9780439554893           eng          352           6267   \n",
       "4      9780439655484           eng          435        2149872   \n",
       "...              ...           ...          ...            ...   \n",
       "13709  9780061186424           eng          260          11317   \n",
       "13710  9780930289553           eng          160           8710   \n",
       "13711  9780061238963         en-US          239          14334   \n",
       "13712  9780743201117           eng          224           1550   \n",
       "13713  9781862056244           eng          132           3572   \n",
       "\n",
       "       text_reviews_count  \n",
       "0                   26249  \n",
       "1                   27613  \n",
       "2                   70390  \n",
       "3                     272  \n",
       "4                   33964  \n",
       "...                   ...  \n",
       "13709                1060  \n",
       "13710                 361  \n",
       "13711                1485  \n",
       "13712                  38  \n",
       "13713                  33  \n",
       "\n",
       "[13714 rows x 10 columns]"
      ]
     },
     "execution_count": 96,
     "metadata": {},
     "output_type": "execute_result"
    }
   ],
   "source": [
    "data_df"
   ]
  },
  {
   "cell_type": "code",
   "execution_count": 97,
   "metadata": {},
   "outputs": [
    {
     "data": {
      "text/plain": [
       "Agatha Christie                                                                                             69\n",
       "Stephen King                                                                                                66\n",
       "Orson Scott Card                                                                                            48\n",
       "Rumiko Takahashi                                                                                            46\n",
       "P.G. Wodehouse                                                                                              42\n",
       "                                                                                                            ..\n",
       "Jerry B. Jenkins-Tim LaHaye-Chris Fabry                                                                      1\n",
       "Jean-Paul Gabilliet-François Gallix-Janice Fiamengo-Raphaelle Costa de Beauregard-Priscilla Morin-Ollier     1\n",
       "Tom Clancy-Leon A. Edney                                                                                     1\n",
       "Lucinda Hawksley-Bob Harvey-Charles Dickens                                                                  1\n",
       "Mikhail Bakunin-Robert M. Cutler                                                                             1\n",
       "Name: authors, Length: 7600, dtype: int64"
      ]
     },
     "execution_count": 97,
     "metadata": {},
     "output_type": "execute_result"
    }
   ],
   "source": [
    "data_df.authors.value_counts()"
   ]
  },
  {
   "cell_type": "code",
   "execution_count": 98,
   "metadata": {},
   "outputs": [
    {
     "data": {
      "text/plain": [
       "False    13714\n",
       "Name: average_rating, dtype: int64"
      ]
     },
     "execution_count": 98,
     "metadata": {},
     "output_type": "execute_result"
    }
   ],
   "source": [
    "data_df.average_rating.isnull().value_counts()"
   ]
  },
  {
   "cell_type": "markdown",
   "metadata": {},
   "source": [
    "# Feature Interaction\n"
   ]
  },
  {
   "cell_type": "code",
   "execution_count": 99,
   "metadata": {},
   "outputs": [
    {
     "name": "stdout",
     "output_type": "stream",
     "text": [
      "<class 'pandas.core.frame.DataFrame'>\n",
      "RangeIndex: 13714 entries, 0 to 13713\n",
      "Data columns (total 10 columns):\n",
      "bookID                13714 non-null int64\n",
      "title                 13714 non-null object\n",
      "authors               13714 non-null object\n",
      "average_rating        13714 non-null float64\n",
      "isbn                  13714 non-null object\n",
      "isbn13                13714 non-null int64\n",
      "language_code         13714 non-null object\n",
      "# num_pages           13714 non-null int64\n",
      "ratings_count         13714 non-null int64\n",
      "text_reviews_count    13714 non-null int64\n",
      "dtypes: float64(1), int64(5), object(4)\n",
      "memory usage: 1.0+ MB\n"
     ]
    }
   ],
   "source": [
    "data_df.info()"
   ]
  },
  {
   "cell_type": "code",
   "execution_count": 100,
   "metadata": {},
   "outputs": [
    {
     "data": {
      "text/html": [
       "<div>\n",
       "<style scoped>\n",
       "    .dataframe tbody tr th:only-of-type {\n",
       "        vertical-align: middle;\n",
       "    }\n",
       "\n",
       "    .dataframe tbody tr th {\n",
       "        vertical-align: top;\n",
       "    }\n",
       "\n",
       "    .dataframe thead th {\n",
       "        text-align: right;\n",
       "    }\n",
       "</style>\n",
       "<table border=\"1\" class=\"dataframe\">\n",
       "  <thead>\n",
       "    <tr style=\"text-align: right;\">\n",
       "      <th></th>\n",
       "      <th>bookID</th>\n",
       "      <th>average_rating</th>\n",
       "      <th>isbn13</th>\n",
       "      <th># num_pages</th>\n",
       "      <th>ratings_count</th>\n",
       "      <th>text_reviews_count</th>\n",
       "    </tr>\n",
       "  </thead>\n",
       "  <tbody>\n",
       "    <tr>\n",
       "      <td>count</td>\n",
       "      <td>13714.000000</td>\n",
       "      <td>13714.000000</td>\n",
       "      <td>1.371400e+04</td>\n",
       "      <td>13714.000000</td>\n",
       "      <td>1.371400e+04</td>\n",
       "      <td>13714.000000</td>\n",
       "    </tr>\n",
       "    <tr>\n",
       "      <td>mean</td>\n",
       "      <td>22159.859195</td>\n",
       "      <td>3.930620</td>\n",
       "      <td>9.764017e+12</td>\n",
       "      <td>342.402727</td>\n",
       "      <td>1.776540e+04</td>\n",
       "      <td>533.632128</td>\n",
       "    </tr>\n",
       "    <tr>\n",
       "      <td>std</td>\n",
       "      <td>13700.926816</td>\n",
       "      <td>0.357893</td>\n",
       "      <td>3.987679e+11</td>\n",
       "      <td>252.650165</td>\n",
       "      <td>1.129572e+05</td>\n",
       "      <td>2529.006691</td>\n",
       "    </tr>\n",
       "    <tr>\n",
       "      <td>min</td>\n",
       "      <td>1.000000</td>\n",
       "      <td>0.000000</td>\n",
       "      <td>8.987060e+09</td>\n",
       "      <td>0.000000</td>\n",
       "      <td>0.000000e+00</td>\n",
       "      <td>0.000000</td>\n",
       "    </tr>\n",
       "    <tr>\n",
       "      <td>25%</td>\n",
       "      <td>10619.250000</td>\n",
       "      <td>3.770000</td>\n",
       "      <td>9.780345e+12</td>\n",
       "      <td>196.000000</td>\n",
       "      <td>8.300000e+01</td>\n",
       "      <td>7.000000</td>\n",
       "    </tr>\n",
       "    <tr>\n",
       "      <td>50%</td>\n",
       "      <td>21321.500000</td>\n",
       "      <td>3.960000</td>\n",
       "      <td>9.780613e+12</td>\n",
       "      <td>301.000000</td>\n",
       "      <td>6.305000e+02</td>\n",
       "      <td>40.000000</td>\n",
       "    </tr>\n",
       "    <tr>\n",
       "      <td>75%</td>\n",
       "      <td>33311.750000</td>\n",
       "      <td>4.130000</td>\n",
       "      <td>9.780940e+12</td>\n",
       "      <td>421.000000</td>\n",
       "      <td>4.742250e+03</td>\n",
       "      <td>222.000000</td>\n",
       "    </tr>\n",
       "    <tr>\n",
       "      <td>max</td>\n",
       "      <td>47709.000000</td>\n",
       "      <td>5.000000</td>\n",
       "      <td>9.790008e+12</td>\n",
       "      <td>6576.000000</td>\n",
       "      <td>5.629932e+06</td>\n",
       "      <td>93619.000000</td>\n",
       "    </tr>\n",
       "  </tbody>\n",
       "</table>\n",
       "</div>"
      ],
      "text/plain": [
       "             bookID  average_rating        isbn13   # num_pages  \\\n",
       "count  13714.000000    13714.000000  1.371400e+04  13714.000000   \n",
       "mean   22159.859195        3.930620  9.764017e+12    342.402727   \n",
       "std    13700.926816        0.357893  3.987679e+11    252.650165   \n",
       "min        1.000000        0.000000  8.987060e+09      0.000000   \n",
       "25%    10619.250000        3.770000  9.780345e+12    196.000000   \n",
       "50%    21321.500000        3.960000  9.780613e+12    301.000000   \n",
       "75%    33311.750000        4.130000  9.780940e+12    421.000000   \n",
       "max    47709.000000        5.000000  9.790008e+12   6576.000000   \n",
       "\n",
       "       ratings_count  text_reviews_count  \n",
       "count   1.371400e+04        13714.000000  \n",
       "mean    1.776540e+04          533.632128  \n",
       "std     1.129572e+05         2529.006691  \n",
       "min     0.000000e+00            0.000000  \n",
       "25%     8.300000e+01            7.000000  \n",
       "50%     6.305000e+02           40.000000  \n",
       "75%     4.742250e+03          222.000000  \n",
       "max     5.629932e+06        93619.000000  "
      ]
     },
     "execution_count": 100,
     "metadata": {},
     "output_type": "execute_result"
    }
   ],
   "source": [
    "data_df.describe()"
   ]
  },
  {
   "cell_type": "code",
   "execution_count": 101,
   "metadata": {},
   "outputs": [
    {
     "data": {
      "text/plain": [
       "Index(['bookID', 'title', 'authors', 'average_rating', 'isbn', 'isbn13',\n",
       "       'language_code', '# num_pages', 'ratings_count', 'text_reviews_count'],\n",
       "      dtype='object')"
      ]
     },
     "execution_count": 101,
     "metadata": {},
     "output_type": "execute_result"
    }
   ],
   "source": [
    "data_df.columns"
   ]
  },
  {
   "cell_type": "code",
   "execution_count": 102,
   "metadata": {},
   "outputs": [
    {
     "data": {
      "text/plain": [
       "<matplotlib.axes._subplots.AxesSubplot at 0x1a2a048b90>"
      ]
     },
     "execution_count": 102,
     "metadata": {},
     "output_type": "execute_result"
    },
    {
     "data": {
      "image/png": "[encoded data removed]",
      "text/plain": [
       "<Figure size 1080x720 with 1 Axes>"
      ]
     },
     "metadata": {
      "needs_background": "light"
     },
     "output_type": "display_data"
    }
   ],
   "source": [
    "most_rated = data_df.sort_values('ratings_count', ascending = False).head(10).set_index('title')\n",
    "plt.figure(figsize=(15,10))\n",
    "sns.barplot(most_rated['ratings_count'], most_rated.index, palette='Set3')"
   ]
  },
  {
   "cell_type": "code",
   "execution_count": 103,
   "metadata": {},
   "outputs": [
    {
     "data": {
      "text/plain": [
       "(13714, 10)"
      ]
     },
     "execution_count": 103,
     "metadata": {},
     "output_type": "execute_result"
    }
   ],
   "source": [
    "data_df.shape"
   ]
  },
  {
   "cell_type": "code",
   "execution_count": 104,
   "metadata": {},
   "outputs": [
    {
     "data": {
      "text/plain": [
       "<matplotlib.axes._subplots.AxesSubplot at 0x1a287ad690>"
      ]
     },
     "execution_count": 104,
     "metadata": {},
     "output_type": "execute_result"
    },
    {
     "data": {
      "image/png": "[encoded data removed]",
      "text/plain": [
       "<Figure size 720x720 with 1 Axes>"
      ]
     },
     "metadata": {
      "needs_background": "light"
     },
     "output_type": "display_data"
    }
   ],
   "source": [
    "plt.figure(figsize=(10,10))\n",
    "rating= data_df.average_rating\n",
    "sns.distplot(rating, bins=20)"
   ]
  },
  {
   "cell_type": "code",
   "execution_count": 105,
   "metadata": {},
   "outputs": [],
   "source": [
    "from sklearn.neighbors import NearestNeighbors\n",
    "model_knn = NearestNeighbors(metric='cosine', algorithm='brute', n_neighbors=20, n_jobs=-1)"
   ]
  },
  {
   "cell_type": "code",
   "execution_count": 106,
   "metadata": {},
   "outputs": [],
   "source": [
    "temp = data_df[['average_rating', 'ratings_count']]\n",
    "data = np.asarray([np.asarray(temp['average_rating']), np.asarray(temp['ratings_count'])]).T"
   ]
  },
  {
   "cell_type": "code",
   "execution_count": 107,
   "metadata": {},
   "outputs": [],
   "source": [
    "from sklearn.cluster import KMeans\n",
    "from sklearn import neighbors\n",
    "from sklearn.model_selection import train_test_split\n",
    "from sklearn.preprocessing import MinMaxScaler"
   ]
  },
  {
   "cell_type": "code",
   "execution_count": 108,
   "metadata": {},
   "outputs": [
    {
     "data": {
      "text/plain": [
       "<matplotlib.axes._subplots.AxesSubplot at 0x1a27fa3390>"
      ]
     },
     "execution_count": 108,
     "metadata": {},
     "output_type": "execute_result"
    },
    {
     "data": {
      "image/png": "[encoded data removed]",
      "text/plain": [
       "<Figure size 1080x720 with 1 Axes>"
      ]
     },
     "metadata": {
      "needs_background": "light"
     },
     "output_type": "display_data"
    }
   ],
   "source": [
    "most_rated2 = data_df.sort_values('ratings_count', ascending = False).head(10).set_index('title')\n",
    "plt.figure(figsize=(15,10))\n",
    "sns.barplot(most_rated['ratings_count'], most_rated.index, palette='Set3')"
   ]
  },
  {
   "cell_type": "code",
   "execution_count": 109,
   "metadata": {},
   "outputs": [
    {
     "data": {
      "text/plain": [
       "<matplotlib.collections.PathCollection at 0x1a295aedd0>"
      ]
     },
     "execution_count": 109,
     "metadata": {},
     "output_type": "execute_result"
    },
    {
     "data": {
      "image/png": "[encoded data removed]",
      "text/plain": [
       "<Figure size 432x288 with 1 Axes>"
      ]
     },
     "metadata": {
      "needs_background": "light"
     },
     "output_type": "display_data"
    }
   ],
   "source": [
    "plt.scatter(data_df['average_rating'], data_df['ratings_count'])"
   ]
  },
  {
   "cell_type": "code",
   "execution_count": 110,
   "metadata": {},
   "outputs": [
    {
     "data": {
      "text/plain": [
       "<matplotlib.collections.PathCollection at 0x1a29611dd0>"
      ]
     },
     "execution_count": 110,
     "metadata": {},
     "output_type": "execute_result"
    },
    {
     "data": {
      "image/png": "[encoded data removed]",
      "text/plain": [
       "<Figure size 432x288 with 1 Axes>"
      ]
     },
     "metadata": {
      "needs_background": "light"
     },
     "output_type": "display_data"
    }
   ],
   "source": [
    "plt.scatter(data_df['average_rating'], data_df['text_reviews_count'])"
   ]
  },
  {
   "cell_type": "code",
   "execution_count": 111,
   "metadata": {},
   "outputs": [
    {
     "data": {
      "text/plain": [
       "<matplotlib.collections.PathCollection at 0x1a2976da90>"
      ]
     },
     "execution_count": 111,
     "metadata": {},
     "output_type": "execute_result"
    },
    {
     "data": {
      "image/png": "[encoded data removed]",
      "text/plain": [
       "<Figure size 432x288 with 1 Axes>"
      ]
     },
     "metadata": {
      "needs_background": "light"
     },
     "output_type": "display_data"
    }
   ],
   "source": [
    "plt.scatter(data_df['text_reviews_count'], data_df['ratings_count'])"
   ]
  },
  {
   "cell_type": "code",
   "execution_count": 112,
   "metadata": {},
   "outputs": [],
   "source": [
    "newdf = data_df[['average_rating','ratings_count']].copy()"
   ]
  },
  {
   "cell_type": "code",
   "execution_count": 113,
   "metadata": {},
   "outputs": [
    {
     "data": {
      "text/html": [
       "<div>\n",
       "<style scoped>\n",
       "    .dataframe tbody tr th:only-of-type {\n",
       "        vertical-align: middle;\n",
       "    }\n",
       "\n",
       "    .dataframe tbody tr th {\n",
       "        vertical-align: top;\n",
       "    }\n",
       "\n",
       "    .dataframe thead th {\n",
       "        text-align: right;\n",
       "    }\n",
       "</style>\n",
       "<table border=\"1\" class=\"dataframe\">\n",
       "  <thead>\n",
       "    <tr style=\"text-align: right;\">\n",
       "      <th></th>\n",
       "      <th>average_rating</th>\n",
       "      <th>ratings_count</th>\n",
       "    </tr>\n",
       "  </thead>\n",
       "  <tbody>\n",
       "    <tr>\n",
       "      <td>0</td>\n",
       "      <td>4.56</td>\n",
       "      <td>1944099</td>\n",
       "    </tr>\n",
       "    <tr>\n",
       "      <td>1</td>\n",
       "      <td>4.49</td>\n",
       "      <td>1996446</td>\n",
       "    </tr>\n",
       "    <tr>\n",
       "      <td>2</td>\n",
       "      <td>4.47</td>\n",
       "      <td>5629932</td>\n",
       "    </tr>\n",
       "    <tr>\n",
       "      <td>3</td>\n",
       "      <td>4.41</td>\n",
       "      <td>6267</td>\n",
       "    </tr>\n",
       "    <tr>\n",
       "      <td>4</td>\n",
       "      <td>4.55</td>\n",
       "      <td>2149872</td>\n",
       "    </tr>\n",
       "    <tr>\n",
       "      <td>...</td>\n",
       "      <td>...</td>\n",
       "      <td>...</td>\n",
       "    </tr>\n",
       "    <tr>\n",
       "      <td>13709</td>\n",
       "      <td>3.82</td>\n",
       "      <td>11317</td>\n",
       "    </tr>\n",
       "    <tr>\n",
       "      <td>13710</td>\n",
       "      <td>3.72</td>\n",
       "      <td>8710</td>\n",
       "    </tr>\n",
       "    <tr>\n",
       "      <td>13711</td>\n",
       "      <td>3.53</td>\n",
       "      <td>14334</td>\n",
       "    </tr>\n",
       "    <tr>\n",
       "      <td>13712</td>\n",
       "      <td>4.43</td>\n",
       "      <td>1550</td>\n",
       "    </tr>\n",
       "    <tr>\n",
       "      <td>13713</td>\n",
       "      <td>4.29</td>\n",
       "      <td>3572</td>\n",
       "    </tr>\n",
       "  </tbody>\n",
       "</table>\n",
       "<p>13714 rows × 2 columns</p>\n",
       "</div>"
      ],
      "text/plain": [
       "       average_rating  ratings_count\n",
       "0                4.56        1944099\n",
       "1                4.49        1996446\n",
       "2                4.47        5629932\n",
       "3                4.41           6267\n",
       "4                4.55        2149872\n",
       "...               ...            ...\n",
       "13709            3.82          11317\n",
       "13710            3.72           8710\n",
       "13711            3.53          14334\n",
       "13712            4.43           1550\n",
       "13713            4.29           3572\n",
       "\n",
       "[13714 rows x 2 columns]"
      ]
     },
     "execution_count": 113,
     "metadata": {},
     "output_type": "execute_result"
    }
   ],
   "source": [
    "newdf"
   ]
  },
  {
   "cell_type": "code",
   "execution_count": 114,
   "metadata": {},
   "outputs": [],
   "source": [
    "ratings = data_df['average_rating']"
   ]
  },
  {
   "cell_type": "code",
   "execution_count": 115,
   "metadata": {},
   "outputs": [
    {
     "data": {
      "text/plain": [
       "0        4.56\n",
       "1        4.49\n",
       "2        4.47\n",
       "3        4.41\n",
       "4        4.55\n",
       "         ... \n",
       "13709    3.82\n",
       "13710    3.72\n",
       "13711    3.53\n",
       "13712    4.43\n",
       "13713    4.29\n",
       "Name: average_rating, Length: 13714, dtype: float64"
      ]
     },
     "execution_count": 115,
     "metadata": {},
     "output_type": "execute_result"
    }
   ],
   "source": [
    "ratings"
   ]
  },
  {
   "cell_type": "code",
   "execution_count": 116,
   "metadata": {},
   "outputs": [
    {
     "data": {
      "text/plain": [
       "137140"
      ]
     },
     "execution_count": 116,
     "metadata": {},
     "output_type": "execute_result"
    }
   ],
   "source": [
    "data_df.size"
   ]
  },
  {
   "cell_type": "code",
   "execution_count": 117,
   "metadata": {},
   "outputs": [],
   "source": [
    "newdf['rating_4_5'] = newdf.apply(lambda x: 1 if (x['average_rating'] >= 4 and x['average_rating'] <= 5) else 0, axis = 1)\n",
    "newdf['rating_3_4'] = newdf.apply(lambda x: 1 if (x['average_rating'] >= 3 and x['average_rating'] < 4) else 0, axis = 1)\n",
    "newdf['rating_2_3'] = newdf.apply(lambda x: 1 if (x['average_rating'] >= 2 and x['average_rating'] < 3) else 0, axis = 1)\n",
    "newdf['rating_1_2'] = newdf.apply(lambda x: 1 if (x['average_rating'] >= 1 and x['average_rating'] < 2) else 0, axis = 1)\n",
    "newdf['rating_0_1'] = newdf.apply(lambda x: 1 if (x['average_rating'] >= 0 and x['average_rating'] < 1) else 0, axis = 1)"
   ]
  },
  {
   "cell_type": "code",
   "execution_count": 118,
   "metadata": {},
   "outputs": [
    {
     "data": {
      "text/plain": [
       "1    7586\n",
       "0    6128\n",
       "Name: rating_3_4, dtype: int64"
      ]
     },
     "execution_count": 118,
     "metadata": {},
     "output_type": "execute_result"
    }
   ],
   "source": [
    "newdf['rating_3_4'].value_counts()"
   ]
  },
  {
   "cell_type": "code",
   "execution_count": 119,
   "metadata": {},
   "outputs": [
    {
     "data": {
      "text/plain": [
       "0    13642\n",
       "1       72\n",
       "Name: rating_2_3, dtype: int64"
      ]
     },
     "execution_count": 119,
     "metadata": {},
     "output_type": "execute_result"
    }
   ],
   "source": [
    "newdf['rating_2_3'].value_counts()"
   ]
  },
  {
   "cell_type": "code",
   "execution_count": 120,
   "metadata": {},
   "outputs": [
    {
     "data": {
      "text/plain": [
       "0    13711\n",
       "1        3\n",
       "Name: rating_1_2, dtype: int64"
      ]
     },
     "execution_count": 120,
     "metadata": {},
     "output_type": "execute_result"
    }
   ],
   "source": [
    "newdf['rating_1_2'].value_counts()"
   ]
  },
  {
   "cell_type": "code",
   "execution_count": 121,
   "metadata": {},
   "outputs": [
    {
     "data": {
      "text/plain": [
       "0    13680\n",
       "1       34\n",
       "Name: rating_0_1, dtype: int64"
      ]
     },
     "execution_count": 121,
     "metadata": {},
     "output_type": "execute_result"
    }
   ],
   "source": [
    "newdf['rating_0_1'].value_counts()"
   ]
  },
  {
   "cell_type": "code",
   "execution_count": 122,
   "metadata": {},
   "outputs": [
    {
     "data": {
      "text/html": [
       "<div>\n",
       "<style scoped>\n",
       "    .dataframe tbody tr th:only-of-type {\n",
       "        vertical-align: middle;\n",
       "    }\n",
       "\n",
       "    .dataframe tbody tr th {\n",
       "        vertical-align: top;\n",
       "    }\n",
       "\n",
       "    .dataframe thead th {\n",
       "        text-align: right;\n",
       "    }\n",
       "</style>\n",
       "<table border=\"1\" class=\"dataframe\">\n",
       "  <thead>\n",
       "    <tr style=\"text-align: right;\">\n",
       "      <th></th>\n",
       "      <th>average_rating</th>\n",
       "      <th>ratings_count</th>\n",
       "      <th>rating_4_5</th>\n",
       "      <th>rating_3_4</th>\n",
       "      <th>rating_2_3</th>\n",
       "      <th>rating_1_2</th>\n",
       "      <th>rating_0_1</th>\n",
       "    </tr>\n",
       "  </thead>\n",
       "  <tbody>\n",
       "    <tr>\n",
       "      <td>0</td>\n",
       "      <td>4.56</td>\n",
       "      <td>1944099</td>\n",
       "      <td>1</td>\n",
       "      <td>0</td>\n",
       "      <td>0</td>\n",
       "      <td>0</td>\n",
       "      <td>0</td>\n",
       "    </tr>\n",
       "    <tr>\n",
       "      <td>1</td>\n",
       "      <td>4.49</td>\n",
       "      <td>1996446</td>\n",
       "      <td>1</td>\n",
       "      <td>0</td>\n",
       "      <td>0</td>\n",
       "      <td>0</td>\n",
       "      <td>0</td>\n",
       "    </tr>\n",
       "    <tr>\n",
       "      <td>2</td>\n",
       "      <td>4.47</td>\n",
       "      <td>5629932</td>\n",
       "      <td>1</td>\n",
       "      <td>0</td>\n",
       "      <td>0</td>\n",
       "      <td>0</td>\n",
       "      <td>0</td>\n",
       "    </tr>\n",
       "    <tr>\n",
       "      <td>3</td>\n",
       "      <td>4.41</td>\n",
       "      <td>6267</td>\n",
       "      <td>1</td>\n",
       "      <td>0</td>\n",
       "      <td>0</td>\n",
       "      <td>0</td>\n",
       "      <td>0</td>\n",
       "    </tr>\n",
       "    <tr>\n",
       "      <td>4</td>\n",
       "      <td>4.55</td>\n",
       "      <td>2149872</td>\n",
       "      <td>1</td>\n",
       "      <td>0</td>\n",
       "      <td>0</td>\n",
       "      <td>0</td>\n",
       "      <td>0</td>\n",
       "    </tr>\n",
       "    <tr>\n",
       "      <td>...</td>\n",
       "      <td>...</td>\n",
       "      <td>...</td>\n",
       "      <td>...</td>\n",
       "      <td>...</td>\n",
       "      <td>...</td>\n",
       "      <td>...</td>\n",
       "      <td>...</td>\n",
       "    </tr>\n",
       "    <tr>\n",
       "      <td>13709</td>\n",
       "      <td>3.82</td>\n",
       "      <td>11317</td>\n",
       "      <td>0</td>\n",
       "      <td>1</td>\n",
       "      <td>0</td>\n",
       "      <td>0</td>\n",
       "      <td>0</td>\n",
       "    </tr>\n",
       "    <tr>\n",
       "      <td>13710</td>\n",
       "      <td>3.72</td>\n",
       "      <td>8710</td>\n",
       "      <td>0</td>\n",
       "      <td>1</td>\n",
       "      <td>0</td>\n",
       "      <td>0</td>\n",
       "      <td>0</td>\n",
       "    </tr>\n",
       "    <tr>\n",
       "      <td>13711</td>\n",
       "      <td>3.53</td>\n",
       "      <td>14334</td>\n",
       "      <td>0</td>\n",
       "      <td>1</td>\n",
       "      <td>0</td>\n",
       "      <td>0</td>\n",
       "      <td>0</td>\n",
       "    </tr>\n",
       "    <tr>\n",
       "      <td>13712</td>\n",
       "      <td>4.43</td>\n",
       "      <td>1550</td>\n",
       "      <td>1</td>\n",
       "      <td>0</td>\n",
       "      <td>0</td>\n",
       "      <td>0</td>\n",
       "      <td>0</td>\n",
       "    </tr>\n",
       "    <tr>\n",
       "      <td>13713</td>\n",
       "      <td>4.29</td>\n",
       "      <td>3572</td>\n",
       "      <td>1</td>\n",
       "      <td>0</td>\n",
       "      <td>0</td>\n",
       "      <td>0</td>\n",
       "      <td>0</td>\n",
       "    </tr>\n",
       "  </tbody>\n",
       "</table>\n",
       "<p>13714 rows × 7 columns</p>\n",
       "</div>"
      ],
      "text/plain": [
       "       average_rating  ratings_count  rating_4_5  rating_3_4  rating_2_3  \\\n",
       "0                4.56        1944099           1           0           0   \n",
       "1                4.49        1996446           1           0           0   \n",
       "2                4.47        5629932           1           0           0   \n",
       "3                4.41           6267           1           0           0   \n",
       "4                4.55        2149872           1           0           0   \n",
       "...               ...            ...         ...         ...         ...   \n",
       "13709            3.82          11317           0           1           0   \n",
       "13710            3.72           8710           0           1           0   \n",
       "13711            3.53          14334           0           1           0   \n",
       "13712            4.43           1550           1           0           0   \n",
       "13713            4.29           3572           1           0           0   \n",
       "\n",
       "       rating_1_2  rating_0_1  \n",
       "0               0           0  \n",
       "1               0           0  \n",
       "2               0           0  \n",
       "3               0           0  \n",
       "4               0           0  \n",
       "...           ...         ...  \n",
       "13709           0           0  \n",
       "13710           0           0  \n",
       "13711           0           0  \n",
       "13712           0           0  \n",
       "13713           0           0  \n",
       "\n",
       "[13714 rows x 7 columns]"
      ]
     },
     "execution_count": 122,
     "metadata": {},
     "output_type": "execute_result"
    }
   ],
   "source": [
    "newdf"
   ]
  },
  {
   "cell_type": "code",
   "execution_count": 123,
   "metadata": {},
   "outputs": [],
   "source": [
    "min_max_scaler = MinMaxScaler()\n",
    "newdf = min_max_scaler.fit_transform(newdf)"
   ]
  },
  {
   "cell_type": "code",
   "execution_count": 124,
   "metadata": {},
   "outputs": [
    {
     "data": {
      "text/plain": [
       "array([[0.9, 0.3, 1. , ..., 0. , 0. , 0. ],\n",
       "       [0.9, 0.4, 1. , ..., 0. , 0. , 0. ],\n",
       "       [0.9, 1. , 1. , ..., 0. , 0. , 0. ],\n",
       "       ...,\n",
       "       [0.7, 0. , 0. , ..., 0. , 0. , 0. ],\n",
       "       [0.9, 0. , 1. , ..., 0. , 0. , 0. ],\n",
       "       [0.9, 0. , 1. , ..., 0. , 0. , 0. ]])"
      ]
     },
     "execution_count": 124,
     "metadata": {},
     "output_type": "execute_result"
    }
   ],
   "source": [
    "np.round(newdf, 1)"
   ]
  },
  {
   "cell_type": "code",
   "execution_count": 125,
   "metadata": {},
   "outputs": [],
   "source": [
    "from sklearn import neighbors\n",
    "model = neighbors.NearestNeighbors(n_neighbors=6, algorithm='ball_tree')\n",
    "model.fit(newdf)\n",
    "distance, index = model.kneighbors(newdf)"
   ]
  },
  {
   "cell_type": "code",
   "execution_count": 133,
   "metadata": {},
   "outputs": [],
   "source": [
    "def print_similar_books(id):\n",
    "        print(\"title of the book is : \")\n",
    "        print(data_df.iloc[id][\"title\"])\n",
    "        print(\"\\nmy recommendations are:\")\n",
    "        for new_id in index[id][1:]:\n",
    "            print(data_df.iloc[new_id][\"title\"])"
   ]
  },
  {
   "cell_type": "code",
   "execution_count": 148,
   "metadata": {},
   "outputs": [
    {
     "name": "stdout",
     "output_type": "stream",
     "text": [
      "title of the book is : \n",
      "Miami Blues (Hoke Mosely #1)\n",
      "\n",
      "my recommendations are:\n",
      "Why Orwell Matters\n",
      "Spring Torrents\n",
      "The Five Bells and Bladebone (Richard Jury  #9)\n",
      "A Midsummer Night's Dream\n",
      "Balkan Ghosts: A Journey Through History\n"
     ]
    }
   ],
   "source": [
    "print_similar_books(121) #where id is the number of book in dataset"
   ]
  }
 ],
 "metadata": {
  "kernelspec": {
   "display_name": "Python 3",
   "language": "python",
   "name": "python3"
  },
  "language_info": {
   "codemirror_mode": {
    "name": "ipython",
    "version": 3
   },
   "file_extension": ".py",
   "mimetype": "text/x-python",
   "name": "python",
   "nbconvert_exporter": "python",
   "pygments_lexer": "ipython3",
   "version": "3.7.4"
  }
 },
 "nbformat": 4,
 "nbformat_minor": 2
}
